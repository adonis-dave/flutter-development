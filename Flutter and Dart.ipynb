{
  "cells": [
    {
      "cell_type": "markdown",
      "metadata": {
        "id": "view-in-github",
        "colab_type": "text"
      },
      "source": [
        "<a href=\"https://colab.research.google.com/github/adonis-dave/flutter-development/blob/master/Flutter%20and%20Dart.ipynb\" target=\"_parent\"><img src=\"https://colab.research.google.com/assets/colab-badge.svg\" alt=\"Open In Colab\"/></a>"
      ]
    },
    {
      "cell_type": "code",
      "source": [
        "import 'package:flutter/material.dart';\n",
        "\n",
        "void main() {\n",
        "  runApp(MyApp());\n",
        "}\n",
        "\n",
        "class MyApp extends StatelessWidget {\n",
        "  const MyApp({super.key});\n",
        "\n",
        "  @override\n",
        "  Widget build(BuildContext context) {\n",
        "    return MaterialApp(\n",
        "      home: HomeScreen(),\n",
        "    );\n",
        "  }\n",
        "}\n",
        "\n",
        "class HomeScreen extends StatelessWidget {\n",
        "  const HomeScreen({super.key});\n",
        "\n",
        "  @override\n",
        "  Widget build(BuildContext context) {\n",
        "    return Scaffold(\n",
        "      appBar: AppBar(\n",
        "        title: Text(\n",
        "          \"BWAWANI\",\n",
        "          style: TextStyle(fontSize: 20, color: Colors.blue),\n",
        "        ),\n",
        "      ),\n",
        "      body: Center(\n",
        "        child: Text(\n",
        "          \"WELCOME TO MOBILE APPLICATION DEVELOPMENT\",\n",
        "          textAlign: TextAlign.center,\n",
        "          style: TextStyle(fontSize: 18),\n",
        "        ),\n",
        "      ),\n",
        "    );\n",
        "  }\n",
        "}\n"
      ],
      "metadata": {
        "id": "hKa69zmWSEad",
        "outputId": "b74e4b36-d0c7-430c-9e5f-f19480194925",
        "colab": {
          "base_uri": "https://localhost:8080/",
          "height": 105
        }
      },
      "execution_count": 1,
      "outputs": [
        {
          "output_type": "error",
          "ename": "SyntaxError",
          "evalue": "invalid syntax (<ipython-input-1-f534137bc30a>, line 1)",
          "traceback": [
            "\u001b[0;36m  File \u001b[0;32m\"<ipython-input-1-f534137bc30a>\"\u001b[0;36m, line \u001b[0;32m1\u001b[0m\n\u001b[0;31m    import 'package:flutter/material.dart';\u001b[0m\n\u001b[0m           ^\u001b[0m\n\u001b[0;31mSyntaxError\u001b[0m\u001b[0;31m:\u001b[0m invalid syntax\n"
          ]
        }
      ]
    }
  ],
  "metadata": {
    "colab": {
      "name": "Welcome To Colab",
      "provenance": [],
      "include_colab_link": true
    },
    "kernelspec": {
      "display_name": "Python 3",
      "name": "python3"
    }
  },
  "nbformat": 4,
  "nbformat_minor": 0
}